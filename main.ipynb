{
 "cells": [
  {
   "metadata": {},
   "cell_type": "markdown",
   "source": [
    "##### **Importing necessary libraries and the dataset**\n",
    "The following code imports the necessary libraries, defines the folder path and imports the dataset."
   ],
   "id": "cecbbe4d4cccf5be"
  },
  {
   "cell_type": "code",
   "id": "initial_id",
   "metadata": {
    "collapsed": true,
    "ExecuteTime": {
     "end_time": "2024-07-15T14:34:35.120321Z",
     "start_time": "2024-07-15T14:34:31.713477Z"
    }
   },
   "source": [
    "from utils_and_libraries import utils\n",
    "\n",
    "\n",
    "# Path to the dataset\n",
    "path = 'dataset/data.csv'\n",
    "\n",
    "# Retrieve the dataset from the path, along with the skipped lines due to the presence of non-required information\n",
    "password_dataset, skipped_lines = utils.get_data(path)\n",
    "\n",
    "print(\"Total length of the dataset: {}\".format(len(password_dataset) + len(skipped_lines)))\n"
   ],
   "outputs": [
    {
     "name": "stdout",
     "output_type": "stream",
     "text": [
      "Total length of the dataset: 669879\n"
     ]
    }
   ],
   "execution_count": 1
  },
  {
   "metadata": {},
   "cell_type": "markdown",
   "source": [
    "##### **Data Visualizing**\n",
    "The following code aims at displaying the first five passwords in the dataset, along with their related strength. It then displays the first five skipped lines."
   ],
   "id": "c81c49aa824820ec"
  },
  {
   "metadata": {
    "ExecuteTime": {
     "end_time": "2024-07-15T14:34:35.152102Z",
     "start_time": "2024-07-15T14:34:35.120321Z"
    }
   },
   "cell_type": "code",
   "source": [
    "# Display the first 5 rows of the dataset\n",
    "print(\"First 5 rows of the dataset:\")\n",
    "utils.display_data(password_dataset, head=True)\n",
    "print(\"Number of passwords considered: {}\".format(len(password_dataset)))\n",
    "\n",
    "# Display the first 5 skipped lines\n",
    "print(\"\\nFirst 5 skipped lines:\")\n",
    "utils.display_data(skipped_lines, head=True)\n",
    "print(\"Number of skipped lines: {}\".format(len(skipped_lines)))\n"
   ],
   "id": "944bf3c4da27297b",
   "outputs": [
    {
     "name": "stdout",
     "output_type": "stream",
     "text": [
      "First 5 rows of the dataset:\n"
     ]
    },
    {
     "data": {
      "text/plain": [
       "      password  strength\n",
       "0     kzde5577         1\n",
       "1     kino3434         1\n",
       "2    visi7k1yr         1\n",
       "3     megzy123         1\n",
       "4  lamborghin1         1"
      ],
      "text/html": [
       "<div>\n",
       "<style scoped>\n",
       "    .dataframe tbody tr th:only-of-type {\n",
       "        vertical-align: middle;\n",
       "    }\n",
       "\n",
       "    .dataframe tbody tr th {\n",
       "        vertical-align: top;\n",
       "    }\n",
       "\n",
       "    .dataframe thead th {\n",
       "        text-align: right;\n",
       "    }\n",
       "</style>\n",
       "<table border=\"1\" class=\"dataframe\">\n",
       "  <thead>\n",
       "    <tr style=\"text-align: right;\">\n",
       "      <th></th>\n",
       "      <th>password</th>\n",
       "      <th>strength</th>\n",
       "    </tr>\n",
       "  </thead>\n",
       "  <tbody>\n",
       "    <tr>\n",
       "      <th>0</th>\n",
       "      <td>kzde5577</td>\n",
       "      <td>1</td>\n",
       "    </tr>\n",
       "    <tr>\n",
       "      <th>1</th>\n",
       "      <td>kino3434</td>\n",
       "      <td>1</td>\n",
       "    </tr>\n",
       "    <tr>\n",
       "      <th>2</th>\n",
       "      <td>visi7k1yr</td>\n",
       "      <td>1</td>\n",
       "    </tr>\n",
       "    <tr>\n",
       "      <th>3</th>\n",
       "      <td>megzy123</td>\n",
       "      <td>1</td>\n",
       "    </tr>\n",
       "    <tr>\n",
       "      <th>4</th>\n",
       "      <td>lamborghin1</td>\n",
       "      <td>1</td>\n",
       "    </tr>\n",
       "  </tbody>\n",
       "</table>\n",
       "</div>"
      ]
     },
     "metadata": {},
     "output_type": "display_data"
    },
    {
     "name": "stdout",
     "output_type": "stream",
     "text": [
      "Number of passwords considered: 669640\n",
      "\n",
      "First 5 skipped lines:\n"
     ]
    },
    {
     "data": {
      "text/plain": [
       "       0                           1               2            3  4     5  \\\n",
       "0  selim   selim_syl1905@hotmail.com   88.230.79.161    Poftya123  2  None   \n",
       "1  Selim     delioreanxs@hotmail.com    85.97.14.203  selim123456  2  None   \n",
       "2  Selim        mt2gurur@hotmail.com    88.227.187.9   benerkin98  2  None   \n",
       "3  Selim  facebookselim4@hotmail.com  94.123.218.111     4938863a  2  None   \n",
       "4  selim    anakonda_252@hotmail.com  85.110.117.124    4560458sg  2  None   \n",
       "\n",
       "      6  \n",
       "0  None  \n",
       "1  None  \n",
       "2  None  \n",
       "3  None  \n",
       "4  None  "
      ],
      "text/html": [
       "<div>\n",
       "<style scoped>\n",
       "    .dataframe tbody tr th:only-of-type {\n",
       "        vertical-align: middle;\n",
       "    }\n",
       "\n",
       "    .dataframe tbody tr th {\n",
       "        vertical-align: top;\n",
       "    }\n",
       "\n",
       "    .dataframe thead th {\n",
       "        text-align: right;\n",
       "    }\n",
       "</style>\n",
       "<table border=\"1\" class=\"dataframe\">\n",
       "  <thead>\n",
       "    <tr style=\"text-align: right;\">\n",
       "      <th></th>\n",
       "      <th>0</th>\n",
       "      <th>1</th>\n",
       "      <th>2</th>\n",
       "      <th>3</th>\n",
       "      <th>4</th>\n",
       "      <th>5</th>\n",
       "      <th>6</th>\n",
       "    </tr>\n",
       "  </thead>\n",
       "  <tbody>\n",
       "    <tr>\n",
       "      <th>0</th>\n",
       "      <td>selim</td>\n",
       "      <td>selim_syl1905@hotmail.com</td>\n",
       "      <td>88.230.79.161</td>\n",
       "      <td>Poftya123</td>\n",
       "      <td>2</td>\n",
       "      <td>None</td>\n",
       "      <td>None</td>\n",
       "    </tr>\n",
       "    <tr>\n",
       "      <th>1</th>\n",
       "      <td>Selim</td>\n",
       "      <td>delioreanxs@hotmail.com</td>\n",
       "      <td>85.97.14.203</td>\n",
       "      <td>selim123456</td>\n",
       "      <td>2</td>\n",
       "      <td>None</td>\n",
       "      <td>None</td>\n",
       "    </tr>\n",
       "    <tr>\n",
       "      <th>2</th>\n",
       "      <td>Selim</td>\n",
       "      <td>mt2gurur@hotmail.com</td>\n",
       "      <td>88.227.187.9</td>\n",
       "      <td>benerkin98</td>\n",
       "      <td>2</td>\n",
       "      <td>None</td>\n",
       "      <td>None</td>\n",
       "    </tr>\n",
       "    <tr>\n",
       "      <th>3</th>\n",
       "      <td>Selim</td>\n",
       "      <td>facebookselim4@hotmail.com</td>\n",
       "      <td>94.123.218.111</td>\n",
       "      <td>4938863a</td>\n",
       "      <td>2</td>\n",
       "      <td>None</td>\n",
       "      <td>None</td>\n",
       "    </tr>\n",
       "    <tr>\n",
       "      <th>4</th>\n",
       "      <td>selim</td>\n",
       "      <td>anakonda_252@hotmail.com</td>\n",
       "      <td>85.110.117.124</td>\n",
       "      <td>4560458sg</td>\n",
       "      <td>2</td>\n",
       "      <td>None</td>\n",
       "      <td>None</td>\n",
       "    </tr>\n",
       "  </tbody>\n",
       "</table>\n",
       "</div>"
      ]
     },
     "metadata": {},
     "output_type": "display_data"
    },
    {
     "name": "stdout",
     "output_type": "stream",
     "text": [
      "Number of skipped lines: 239\n"
     ]
    }
   ],
   "execution_count": 2
  },
  {
   "metadata": {},
   "cell_type": "markdown",
   "source": [
    "##### **Feature Extraction**\n",
    "The following code extracts the features from the dataset. \n",
    "The extracted features are:\n",
    "-   Length of the password\n",
    "-   Number of digits in the password\n",
    "-   Number of special characters in the password\n",
    "-   Number of uppercase letters in the password\n",
    "-   Number of lowercase letters in the password\n",
    "-   Number of unique characters in the password\n",
    "-   The value of the entropy of the password\n",
    "-   If the password has repeated characters\n",
    "\n",
    "The extracted features are then displayed for the first five passwords in the dataset.    "
   ],
   "id": "60d2d47aff5f4fb6"
  },
  {
   "metadata": {
    "ExecuteTime": {
     "end_time": "2024-07-15T14:34:46.177720Z",
     "start_time": "2024-07-15T14:34:35.154619Z"
    }
   },
   "cell_type": "code",
   "source": [
    "# Extract the features from the dataset and display them\n",
    "extracted_features = utils.extract_password_features(password_dataset)\n",
    "\n",
    "print(\"Extracted features related to the first 5 passwords:\")\n",
    "utils.display_data(extracted_features, head=True)\n"
   ],
   "id": "5f299f45b0d0f165",
   "outputs": [
    {
     "name": "stdout",
     "output_type": "stream",
     "text": [
      "Extracted features related to the first 5 passwords:\n"
     ]
    },
    {
     "data": {
      "text/plain": [
       "             length  digits  special_characters  uppercase_letters  \\\n",
       "kzde5577          8       4                   0                  0   \n",
       "kino3434          8       4                   0                  0   \n",
       "visi7k1yr         9       2                   0                  0   \n",
       "megzy123          8       3                   0                  0   \n",
       "lamborghin1      11       1                   0                  0   \n",
       "\n",
       "             lowercase_letters  unique_characters    entropy  \\\n",
       "kzde5577                     4                  6  41.359400   \n",
       "kino3434                     4                  6  41.359400   \n",
       "visi7k1yr                    7                  8  46.529325   \n",
       "megzy123                     5                  8  41.359400   \n",
       "lamborghin1                 10                 11  56.869175   \n",
       "\n",
       "             has_repeated_characters  \n",
       "kzde5577                        True  \n",
       "kino3434                       False  \n",
       "visi7k1yr                      False  \n",
       "megzy123                       False  \n",
       "lamborghin1                    False  "
      ],
      "text/html": [
       "<div>\n",
       "<style scoped>\n",
       "    .dataframe tbody tr th:only-of-type {\n",
       "        vertical-align: middle;\n",
       "    }\n",
       "\n",
       "    .dataframe tbody tr th {\n",
       "        vertical-align: top;\n",
       "    }\n",
       "\n",
       "    .dataframe thead th {\n",
       "        text-align: right;\n",
       "    }\n",
       "</style>\n",
       "<table border=\"1\" class=\"dataframe\">\n",
       "  <thead>\n",
       "    <tr style=\"text-align: right;\">\n",
       "      <th></th>\n",
       "      <th>length</th>\n",
       "      <th>digits</th>\n",
       "      <th>special_characters</th>\n",
       "      <th>uppercase_letters</th>\n",
       "      <th>lowercase_letters</th>\n",
       "      <th>unique_characters</th>\n",
       "      <th>entropy</th>\n",
       "      <th>has_repeated_characters</th>\n",
       "    </tr>\n",
       "  </thead>\n",
       "  <tbody>\n",
       "    <tr>\n",
       "      <th>kzde5577</th>\n",
       "      <td>8</td>\n",
       "      <td>4</td>\n",
       "      <td>0</td>\n",
       "      <td>0</td>\n",
       "      <td>4</td>\n",
       "      <td>6</td>\n",
       "      <td>41.359400</td>\n",
       "      <td>True</td>\n",
       "    </tr>\n",
       "    <tr>\n",
       "      <th>kino3434</th>\n",
       "      <td>8</td>\n",
       "      <td>4</td>\n",
       "      <td>0</td>\n",
       "      <td>0</td>\n",
       "      <td>4</td>\n",
       "      <td>6</td>\n",
       "      <td>41.359400</td>\n",
       "      <td>False</td>\n",
       "    </tr>\n",
       "    <tr>\n",
       "      <th>visi7k1yr</th>\n",
       "      <td>9</td>\n",
       "      <td>2</td>\n",
       "      <td>0</td>\n",
       "      <td>0</td>\n",
       "      <td>7</td>\n",
       "      <td>8</td>\n",
       "      <td>46.529325</td>\n",
       "      <td>False</td>\n",
       "    </tr>\n",
       "    <tr>\n",
       "      <th>megzy123</th>\n",
       "      <td>8</td>\n",
       "      <td>3</td>\n",
       "      <td>0</td>\n",
       "      <td>0</td>\n",
       "      <td>5</td>\n",
       "      <td>8</td>\n",
       "      <td>41.359400</td>\n",
       "      <td>False</td>\n",
       "    </tr>\n",
       "    <tr>\n",
       "      <th>lamborghin1</th>\n",
       "      <td>11</td>\n",
       "      <td>1</td>\n",
       "      <td>0</td>\n",
       "      <td>0</td>\n",
       "      <td>10</td>\n",
       "      <td>11</td>\n",
       "      <td>56.869175</td>\n",
       "      <td>False</td>\n",
       "    </tr>\n",
       "  </tbody>\n",
       "</table>\n",
       "</div>"
      ]
     },
     "metadata": {},
     "output_type": "display_data"
    }
   ],
   "execution_count": 3
  }
 ],
 "metadata": {
  "kernelspec": {
   "display_name": "Python 3",
   "language": "python",
   "name": "python3"
  },
  "language_info": {
   "codemirror_mode": {
    "name": "ipython",
    "version": 2
   },
   "file_extension": ".py",
   "mimetype": "text/x-python",
   "name": "python",
   "nbconvert_exporter": "python",
   "pygments_lexer": "ipython2",
   "version": "2.7.6"
  }
 },
 "nbformat": 4,
 "nbformat_minor": 5
}
